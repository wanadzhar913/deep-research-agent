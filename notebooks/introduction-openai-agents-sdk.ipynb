{
 "cells": [
  {
   "cell_type": "code",
   "execution_count": 22,
   "metadata": {},
   "outputs": [],
   "source": [
    "import asyncio\n",
    "from pprint import pprint\n",
    "\n",
    "from pydantic import BaseModel\n",
    "from agents import Agent, Runner, InputGuardrail, \\\n",
    "                   GuardrailFunctionOutput, trace\n",
    "from agents.exceptions import InputGuardrailTripwireTriggered\n",
    "\n",
    "from dotenv import load_dotenv"
   ]
  },
  {
   "cell_type": "code",
   "execution_count": 2,
   "metadata": {},
   "outputs": [
    {
     "data": {
      "text/plain": [
       "True"
      ]
     },
     "execution_count": 2,
     "metadata": {},
     "output_type": "execute_result"
    }
   ],
   "source": [
    "load_dotenv(override=True)"
   ]
  },
  {
   "cell_type": "markdown",
   "metadata": {},
   "source": [
    "# 1.0 Introduction"
   ]
  },
  {
   "cell_type": "markdown",
   "metadata": {},
   "source": [
    "### 1.1 Basic Concepts"
   ]
  },
  {
   "cell_type": "markdown",
   "metadata": {},
   "source": [
    "To get started, you'll need to be aware of 3 very important [primitives]():\n",
    "\n",
    "> **Agents**, which are LLMs equipped with instructions and tools.  \n",
    "> **Handoffs**, which allow agents to delegate to other agents for specific tasks.  \n",
    "> **Guardrails**, which enable the inputs to agents to be validated.  \n",
    "\n",
    "With that in mind, we'll generally do 3 steps when calling our Agents:\n",
    "1. Creating an `Agent` instance.\n",
    "2. Using `with trace()` to track the Agent.\n",
    "3. Calling `runner.run()` to run the Agent.\n",
    "\n",
    "Additionally:\n",
    "- For tracking our Agent's interactions & output we can go to: https://platform.openai.com/traces\n",
    "- For documentation, we can go to: https://openai.github.io/openai-agents-python/"
   ]
  },
  {
   "cell_type": "code",
   "execution_count": 3,
   "metadata": {},
   "outputs": [],
   "source": [
    "agent = Agent(\n",
    "    name=\"Jokester\",\n",
    "    instructions=\"You are a comedian. You are going to tell jokes.\",\n",
    "    model=\"gpt-4o-mini\",\n",
    ")"
   ]
  },
  {
   "cell_type": "code",
   "execution_count": 7,
   "metadata": {},
   "outputs": [
    {
     "name": "stdout",
     "output_type": "stream",
     "text": [
      "Why don’t Ronaldo and Messi ever play hide and seek?\n",
      "\n",
      "Because good luck hiding when Messi can dribble past you, and Ronaldo will just take a selfie from wherever he is!\n"
     ]
    }
   ],
   "source": [
    "with trace(\"Testing-2025-08-23\"):\n",
    "    result = await Runner.run(agent, \"Tell me a joke about Ronaldo vs. Messi.\")\n",
    "    print(result.final_output)"
   ]
  },
  {
   "cell_type": "code",
   "execution_count": 8,
   "metadata": {},
   "outputs": [
    {
     "data": {
      "text/plain": [
       "RunResult(input='Tell me a joke about Ronaldo vs. Messi.', new_items=[MessageOutputItem(agent=Agent(name='Jokester', instructions='You are a comedian. You are going to tell jokes.', handoff_description=None, handoffs=[], model='gpt-4o-mini', model_settings=ModelSettings(temperature=None, top_p=None, frequency_penalty=None, presence_penalty=None, tool_choice=None, parallel_tool_calls=None, truncation=None, max_tokens=None, reasoning=None, metadata=None, store=None, include_usage=None, extra_query=None, extra_body=None, extra_headers=None), tools=[], mcp_servers=[], mcp_config={}, input_guardrails=[], output_guardrails=[], output_type=None, hooks=None, tool_use_behavior='run_llm_again', reset_tool_choice=True), raw_item=ResponseOutputMessage(id='msg_68a9c87aa8e0819f809b3e4988ec771e0b13905296926762', content=[ResponseOutputText(annotations=[], text='Why don’t Ronaldo and Messi ever play hide and seek?\\n\\nBecause good luck hiding when Messi can dribble past you, and Ronaldo will just take a selfie from wherever he is!', type='output_text', logprobs=[])], role='assistant', status='completed', type='message'), type='message_output_item')], raw_responses=[ModelResponse(output=[ResponseOutputMessage(id='msg_68a9c87aa8e0819f809b3e4988ec771e0b13905296926762', content=[ResponseOutputText(annotations=[], text='Why don’t Ronaldo and Messi ever play hide and seek?\\n\\nBecause good luck hiding when Messi can dribble past you, and Ronaldo will just take a selfie from wherever he is!', type='output_text', logprobs=[])], role='assistant', status='completed', type='message')], usage=Usage(requests=1, input_tokens=33, input_tokens_details=InputTokensDetails(cached_tokens=0), output_tokens=37, output_tokens_details=OutputTokensDetails(reasoning_tokens=0), total_tokens=70), response_id='resp_68a9c87a0cb4819f924982fad97edb630b13905296926762')], final_output='Why don’t Ronaldo and Messi ever play hide and seek?\\n\\nBecause good luck hiding when Messi can dribble past you, and Ronaldo will just take a selfie from wherever he is!', input_guardrail_results=[], output_guardrail_results=[], context_wrapper=RunContextWrapper(context=None, usage=Usage(requests=1, input_tokens=33, input_tokens_details=InputTokensDetails(cached_tokens=0), output_tokens=37, output_tokens_details=OutputTokensDetails(reasoning_tokens=0), total_tokens=70)), _last_agent=Agent(name='Jokester', instructions='You are a comedian. You are going to tell jokes.', handoff_description=None, handoffs=[], model='gpt-4o-mini', model_settings=ModelSettings(temperature=None, top_p=None, frequency_penalty=None, presence_penalty=None, tool_choice=None, parallel_tool_calls=None, truncation=None, max_tokens=None, reasoning=None, metadata=None, store=None, include_usage=None, extra_query=None, extra_body=None, extra_headers=None), tools=[], mcp_servers=[], mcp_config={}, input_guardrails=[], output_guardrails=[], output_type=None, hooks=None, tool_use_behavior='run_llm_again', reset_tool_choice=True))"
      ]
     },
     "execution_count": 8,
     "metadata": {},
     "output_type": "execute_result"
    }
   ],
   "source": [
    "result"
   ]
  },
  {
   "cell_type": "code",
   "execution_count": 9,
   "metadata": {},
   "outputs": [
    {
     "name": "stdout",
     "output_type": "stream",
     "text": [
      "RunResult:\n",
      "- Last agent: Agent(name=\"Jokester\", ...)\n",
      "- Final output (str):\n",
      "    Why don’t Ronaldo and Messi ever play hide and seek?\n",
      "    \n",
      "    Because good luck hiding when Messi can dribble past you, and Ronaldo will just take a selfie from wherever he is!\n",
      "- 1 new item(s)\n",
      "- 1 raw response(s)\n",
      "- 0 input guardrail result(s)\n",
      "- 0 output guardrail result(s)\n",
      "(See `RunResult` for more details)\n"
     ]
    }
   ],
   "source": [
    "print(result)"
   ]
  },
  {
   "cell_type": "markdown",
   "metadata": {},
   "source": [
    "### 1.2 Using multiple agents with handoffs"
   ]
  },
  {
   "cell_type": "code",
   "execution_count": 12,
   "metadata": {},
   "outputs": [],
   "source": [
    "class HomeworkOutput(BaseModel):\n",
    "    is_homework: bool\n",
    "    reasoning: str"
   ]
  },
  {
   "cell_type": "code",
   "execution_count": 13,
   "metadata": {},
   "outputs": [],
   "source": [
    "guardrail_agent = Agent(\n",
    "    name=\"Guardrail check\",\n",
    "    instructions=\"Check if the user is asking about homework.\",\n",
    "    output_type=HomeworkOutput,\n",
    ")"
   ]
  },
  {
   "cell_type": "code",
   "execution_count": 14,
   "metadata": {},
   "outputs": [],
   "source": [
    "math_tutor_agent = Agent(\n",
    "    name=\"Math Tutor\",\n",
    "    handoff_description=\"Specialist agent for math questions\",\n",
    "    instructions=\"You provide help with math problems. Explain your reasoning at each step and include examples\",\n",
    ")"
   ]
  },
  {
   "cell_type": "code",
   "execution_count": 15,
   "metadata": {},
   "outputs": [],
   "source": [
    "history_tutor_agent = Agent(\n",
    "    name=\"History Tutor\",\n",
    "    handoff_description=\"Specialist agent for historical questions\",\n",
    "    instructions=\"You provide assistance with historical queries. Explain important events and context clearly.\",\n",
    ")"
   ]
  },
  {
   "cell_type": "code",
   "execution_count": 23,
   "metadata": {},
   "outputs": [
    {
     "name": "stdout",
     "output_type": "stream",
     "text": [
      "Agent(name='History Tutor',\n",
      "      instructions='You provide assistance with historical queries. Explain '\n",
      "                   'important events and context clearly.',\n",
      "      handoff_description='Specialist agent for historical questions',\n",
      "      handoffs=[],\n",
      "      model=None,\n",
      "      model_settings=ModelSettings(temperature=None,\n",
      "                                   top_p=None,\n",
      "                                   frequency_penalty=None,\n",
      "                                   presence_penalty=None,\n",
      "                                   tool_choice=None,\n",
      "                                   parallel_tool_calls=None,\n",
      "                                   truncation=None,\n",
      "                                   max_tokens=None,\n",
      "                                   reasoning=None,\n",
      "                                   metadata=None,\n",
      "                                   store=None,\n",
      "                                   include_usage=None,\n",
      "                                   extra_query=None,\n",
      "                                   extra_body=None,\n",
      "                                   extra_headers=None),\n",
      "      tools=[],\n",
      "      mcp_servers=[],\n",
      "      mcp_config={},\n",
      "      input_guardrails=[],\n",
      "      output_guardrails=[],\n",
      "      output_type=None,\n",
      "      hooks=None,\n",
      "      tool_use_behavior='run_llm_again',\n",
      "      reset_tool_choice=True)\n"
     ]
    }
   ],
   "source": [
    "pprint(history_tutor_agent)"
   ]
  },
  {
   "cell_type": "code",
   "execution_count": 16,
   "metadata": {},
   "outputs": [],
   "source": [
    "async def homework_guardrail(ctx, agent, input_data):\n",
    "    result = await Runner.run(guardrail_agent, input_data, context=ctx.context)\n",
    "    final_output = result.final_output_as(HomeworkOutput)\n",
    "    return GuardrailFunctionOutput(\n",
    "        output_info=final_output,\n",
    "        tripwire_triggered=not final_output.is_homework,\n",
    "    )"
   ]
  },
  {
   "cell_type": "code",
   "execution_count": 17,
   "metadata": {},
   "outputs": [],
   "source": [
    "triage_agent = Agent(\n",
    "    name=\"Triage Agent\",\n",
    "    instructions=\"You determine which agent to use based on the user's homework question\",\n",
    "    handoffs=[history_tutor_agent, math_tutor_agent],\n",
    "    input_guardrails=[\n",
    "        InputGuardrail(guardrail_function=homework_guardrail),\n",
    "    ],\n",
    ")"
   ]
  },
  {
   "cell_type": "code",
   "execution_count": 18,
   "metadata": {},
   "outputs": [],
   "source": [
    "async def main():\n",
    "    # Example 1: History question\n",
    "    try:\n",
    "        result = await Runner.run(triage_agent, \"who was the first president of the united states?\")\n",
    "        print(result.final_output)\n",
    "    except InputGuardrailTripwireTriggered as e:\n",
    "        print(\"Guardrail blocked this input:\", e)\n",
    "\n",
    "    # Example 2: General/philosophical question\n",
    "    try:\n",
    "        result = await Runner.run(triage_agent, \"What is the meaning of life?\")\n",
    "        print(result.final_output)\n",
    "    except InputGuardrailTripwireTriggered as e:\n",
    "        print(\"Guardrail blocked this input:\", e)"
   ]
  },
  {
   "cell_type": "code",
   "execution_count": null,
   "metadata": {},
   "outputs": [
    {
     "name": "stdout",
     "output_type": "stream",
     "text": [
      "The first President of the United States was George Washington. He served from April 30, 1789, to March 4, 1797. Washington is known for leading the Continental Army to victory over the British in the American Revolutionary War and for presiding over the Constitutional Convention of 1787, which drafted the United States Constitution. His presidency set many precedents, including the formation of a Cabinet and the tradition of a two-term limit, which later became law with the 22nd Amendment. Washington is often referred to as the \"Father of His Country\" for his pivotal role in founding the United States.\n",
      "Guardrail blocked this input: Guardrail InputGuardrail triggered tripwire\n"
     ]
    }
   ],
   "source": [
    "# if we ran this via a Python script, use `asyncio.run(main())`\n",
    "await main()"
   ]
  }
 ],
 "metadata": {
  "kernelspec": {
   "display_name": "agents",
   "language": "python",
   "name": "python3"
  },
  "language_info": {
   "codemirror_mode": {
    "name": "ipython",
    "version": 3
   },
   "file_extension": ".py",
   "mimetype": "text/x-python",
   "name": "python",
   "nbconvert_exporter": "python",
   "pygments_lexer": "ipython3",
   "version": "3.12.11"
  }
 },
 "nbformat": 4,
 "nbformat_minor": 2
}
