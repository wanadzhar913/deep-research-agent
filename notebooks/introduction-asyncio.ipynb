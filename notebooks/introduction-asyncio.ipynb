{
 "cells": [
  {
   "cell_type": "code",
   "execution_count": 1,
   "id": "b24a5995",
   "metadata": {},
   "outputs": [],
   "source": [
    "import asyncio"
   ]
  },
  {
   "cell_type": "markdown",
   "id": "6442add0",
   "metadata": {},
   "source": [
    "### 1.0 When to use Asyncio?"
   ]
  },
  {
   "cell_type": "markdown",
   "id": "4a3ca14c",
   "metadata": {},
   "source": [
    "**Asyncio**  \n",
    "It's for when you need to run a lot of tasks that wait a lot, as well as concurrently without much CPU power. For example:\n",
    "- Network Requests\n",
    "- Reading Files\n",
    "\n",
    "**Threads**  \n",
    "Threads are suited for tasks that may need to wait but also share data. These are for tasks that are:\n",
    "- I/O bound (but less CPU intensive)\n",
    "- Are parallel\n",
    "\n",
    "**Processes**  \n",
    "These are for CPU heave tasks or tasks with heavy computations. Each task operates independently and maximizes CPU usage by running in parallel across multiple cores."
   ]
  },
  {
   "cell_type": "markdown",
   "id": "97009a09",
   "metadata": {
    "vscode": {
     "languageId": "plaintext"
    }
   },
   "source": [
    "### 2.0 The Event Loop"
   ]
  },
  {
   "cell_type": "markdown",
   "id": "b7a69d8c",
   "metadata": {},
   "source": [
    "This is like the core that manages and distributes tasks. A task is either executed immediately, or paused if it's waiting for something like data from the internet. When a task is *awaited*, it steps aside and makes room for another task to run ensuring loops are always efficiently utilized. Once the awaited operation is complete, the task will resume."
   ]
  },
  {
   "cell_type": "markdown",
   "id": "77639ad3",
   "metadata": {},
   "source": [
    "### 3.0 Coroutines"
   ]
  },
  {
   "cell_type": "markdown",
   "id": "eec074d7",
   "metadata": {},
   "source": [
    "**Subroutines** are blocks of code in Python designed to perform specific tasks. They are categorized into two main types: **functions** and **methods**. Functions are independent, reusable blocks of code defined using the def keyword. Methods are functions associated with objects or classes. They operate on the attributes and data within a class and are called using the dot notation on instances.\n",
    "\n",
    "**Coroutines** are a more generalized form of subroutines. Subroutines are entered at one point and exited at another point. Coroutines can be entered, exited, and resumed at many different points. They **allow for cooperative multitasking, non-blocking I/O operations** and are managed by an event loop They can be implemented with the `async def` statement. "
   ]
  },
  {
   "cell_type": "code",
   "execution_count": 15,
   "id": "3e24933d",
   "metadata": {},
   "outputs": [],
   "source": [
    "# coroutine function\n",
    "async def main():\n",
    "    print(\"Start of the main coroutine\")"
   ]
  },
  {
   "cell_type": "code",
   "execution_count": 16,
   "id": "362b8283",
   "metadata": {},
   "outputs": [
    {
     "data": {
      "text/plain": [
       "<coroutine object main at 0x7f01ba1d13c0>"
      ]
     },
     "execution_count": 16,
     "metadata": {},
     "output_type": "execute_result"
    }
   ],
   "source": [
    "main()"
   ]
  },
  {
   "cell_type": "markdown",
   "id": "dde7cc14",
   "metadata": {},
   "source": [
    "To **actually start** the Event Loop and access the results of the coroutine, we need to put the `await` keyword in front."
   ]
  },
  {
   "cell_type": "code",
   "execution_count": null,
   "id": "b7322f85",
   "metadata": {},
   "outputs": [
    {
     "name": "stdout",
     "output_type": "stream",
     "text": [
      "Start of the main coroutine\n"
     ]
    }
   ],
   "source": [
    "await main() # Jupyter Notebooks"
   ]
  },
  {
   "cell_type": "markdown",
   "id": "71cdc184",
   "metadata": {},
   "source": [
    "In Python scripting, we normally use the below. However, as stated in this [StackOverflow thread](https://stackoverflow.com/questions/55409641/asyncio-run-cannot-be-called-from-a-running-event-loop-when-using-jupyter-no), we can't do that."
   ]
  },
  {
   "cell_type": "code",
   "execution_count": 18,
   "id": "3fc0c588",
   "metadata": {},
   "outputs": [
    {
     "ename": "RuntimeError",
     "evalue": "asyncio.run() cannot be called from a running event loop",
     "output_type": "error",
     "traceback": [
      "\u001b[31m---------------------------------------------------------------------------\u001b[39m",
      "\u001b[31mRuntimeError\u001b[39m                              Traceback (most recent call last)",
      "\u001b[36mCell\u001b[39m\u001b[36m \u001b[39m\u001b[32mIn[18]\u001b[39m\u001b[32m, line 1\u001b[39m\n\u001b[32m----> \u001b[39m\u001b[32m1\u001b[39m \u001b[43masyncio\u001b[49m\u001b[43m.\u001b[49m\u001b[43mrun\u001b[49m\u001b[43m(\u001b[49m\u001b[43mmain\u001b[49m\u001b[43m(\u001b[49m\u001b[43m)\u001b[49m\u001b[43m)\u001b[49m \u001b[38;5;66;03m# Python\u001b[39;00m\n",
      "\u001b[36mFile \u001b[39m\u001b[32m/usr/lib/python3.12/asyncio/runners.py:191\u001b[39m, in \u001b[36mrun\u001b[39m\u001b[34m(main, debug, loop_factory)\u001b[39m\n\u001b[32m    161\u001b[39m \u001b[38;5;250m\u001b[39m\u001b[33;03m\"\"\"Execute the coroutine and return the result.\u001b[39;00m\n\u001b[32m    162\u001b[39m \n\u001b[32m    163\u001b[39m \u001b[33;03mThis function runs the passed coroutine, taking care of\u001b[39;00m\n\u001b[32m   (...)\u001b[39m\u001b[32m    187\u001b[39m \u001b[33;03m    asyncio.run(main())\u001b[39;00m\n\u001b[32m    188\u001b[39m \u001b[33;03m\"\"\"\u001b[39;00m\n\u001b[32m    189\u001b[39m \u001b[38;5;28;01mif\u001b[39;00m events._get_running_loop() \u001b[38;5;129;01mis\u001b[39;00m \u001b[38;5;129;01mnot\u001b[39;00m \u001b[38;5;28;01mNone\u001b[39;00m:\n\u001b[32m    190\u001b[39m     \u001b[38;5;66;03m# fail fast with short traceback\u001b[39;00m\n\u001b[32m--> \u001b[39m\u001b[32m191\u001b[39m     \u001b[38;5;28;01mraise\u001b[39;00m \u001b[38;5;167;01mRuntimeError\u001b[39;00m(\n\u001b[32m    192\u001b[39m         \u001b[33m\"\u001b[39m\u001b[33masyncio.run() cannot be called from a running event loop\u001b[39m\u001b[33m\"\u001b[39m)\n\u001b[32m    194\u001b[39m \u001b[38;5;28;01mwith\u001b[39;00m Runner(debug=debug, loop_factory=loop_factory) \u001b[38;5;28;01mas\u001b[39;00m runner:\n\u001b[32m    195\u001b[39m     \u001b[38;5;28;01mreturn\u001b[39;00m runner.run(main)\n",
      "\u001b[31mRuntimeError\u001b[39m: asyncio.run() cannot be called from a running event loop"
     ]
    }
   ],
   "source": [
    "asyncio.run(main()) # Python"
   ]
  },
  {
   "cell_type": "code",
   "execution_count": null,
   "id": "a2de484a",
   "metadata": {},
   "outputs": [],
   "source": [
    "async def fetch_data(id, sleep_time):\n",
    "    print(f\"Coroutine {id} starting to fetch data.\")\n",
    "    await asyncio.sleep(sleep_time) # Simulate a network request of I0 operation\n",
    "    \n",
    "    # Return some data as a result\n",
    "    return {\"id\": id, \"data\": f\"Sample data from coroutine {id}\"}"
   ]
  },
  {
   "cell_type": "markdown",
   "id": "2631e305",
   "metadata": {},
   "source": [
    "A coroutine only starts running when we `await` it! Very crucially, we notice that only until `result1` is finished do we move on to the next task, getting `result2`. Hence, there's really no performance benefit here."
   ]
  },
  {
   "cell_type": "code",
   "execution_count": 22,
   "id": "2cc217f4",
   "metadata": {},
   "outputs": [],
   "source": [
    "async def main():\n",
    "    task1 = fetch_data(1, 2)\n",
    "    task2 = fetch_data(2, 2)\n",
    "\n",
    "    result1 = await task1\n",
    "    print(f\"Received result: {result1}\")\n",
    "\n",
    "    result2 = await task2\n",
    "    print(f\"Received result: {result2}\")"
   ]
  },
  {
   "cell_type": "code",
   "execution_count": null,
   "id": "8285b7a5",
   "metadata": {},
   "outputs": [
    {
     "name": "stdout",
     "output_type": "stream",
     "text": [
      "Coroutine 1 starting to fetch data.\n",
      "Received result: {'id': 1, 'data': 'Sample data from coroutine 1'}\n",
      "Coroutine 2 starting to fetch data.\n",
      "Received result: {'id': 2, 'data': 'Sample data from coroutine 2'}\n"
     ]
    }
   ],
   "source": [
    "await main() # ran in 4 seconds"
   ]
  },
  {
   "cell_type": "markdown",
   "id": "1b47e4cf",
   "metadata": {},
   "source": [
    "To **ensure we do our task concurrently**, we need to use the `.create_task()` method."
   ]
  },
  {
   "cell_type": "code",
   "execution_count": null,
   "id": "fd0636c3",
   "metadata": {},
   "outputs": [],
   "source": [
    "async def main1():\n",
    "    # Create tasks for running coroutines concurrently\n",
    "    task1 = asyncio.create_task(fetch_data(1, 2))\n",
    "    task2 = asyncio.create_task(fetch_data(2, 3))\n",
    "    task3 = asyncio.create_task(fetch_data(3, 1))\n",
    "\n",
    "    result1 = await task1\n",
    "    result2 = await task2\n",
    "    result3 = await task3\n",
    "\n",
    "    print(result1, result2, result3)"
   ]
  },
  {
   "cell_type": "code",
   "execution_count": null,
   "id": "d5d817ae",
   "metadata": {},
   "outputs": [
    {
     "name": "stdout",
     "output_type": "stream",
     "text": [
      "Coroutine 1 starting to fetch data.\n",
      "Coroutine 2 starting to fetch data.\n",
      "Coroutine 3 starting to fetch data.\n",
      "{'id': 1, 'data': 'Sample data from coroutine 1'} {'id': 2, 'data': 'Sample data from coroutine 2'} {'id': 3, 'data': 'Sample data from coroutine 3'}\n"
     ]
    }
   ],
   "source": [
    "await main1() # ran in 3 seconds"
   ]
  },
  {
   "cell_type": "code",
   "execution_count": 6,
   "id": "39beb035",
   "metadata": {},
   "outputs": [],
   "source": [
    "async def main2():\n",
    "    # Create tasks for running coroutines concurrently\n",
    "    task1 = asyncio.create_task(fetch_data(1, 2))\n",
    "    task2 = asyncio.create_task(fetch_data(2, 3))\n",
    "\n",
    "    result1 = await task1\n",
    "    result2 = await task2\n",
    "\n",
    "    task3 = asyncio.create_task(fetch_data(3, 1))\n",
    "    \n",
    "    result3 = await task3\n",
    "\n",
    "    print(result1, result2, result3)"
   ]
  },
  {
   "cell_type": "code",
   "execution_count": null,
   "id": "dfb7a4c8",
   "metadata": {},
   "outputs": [
    {
     "name": "stdout",
     "output_type": "stream",
     "text": [
      "Coroutine 1 starting to fetch data.\n",
      "Coroutine 2 starting to fetch data.\n",
      "Coroutine 3 starting to fetch data.\n",
      "{'id': 1, 'data': 'Sample data from coroutine 1'} {'id': 2, 'data': 'Sample data from coroutine 2'} {'id': 3, 'data': 'Sample data from coroutine 3'}\n"
     ]
    }
   ],
   "source": [
    "await main2() # ran in 4 seconds"
   ]
  },
  {
   "cell_type": "markdown",
   "id": "5109ce8d",
   "metadata": {},
   "source": [
    "To concurrently run multiple coroutines, we can use the `.gather()` method. However, a limitation with this function is **it's not great with error handling and if one task fails.**"
   ]
  },
  {
   "cell_type": "code",
   "execution_count": 8,
   "id": "48981f66",
   "metadata": {},
   "outputs": [],
   "source": [
    "async def main3():\n",
    "    # Run coroutines concurrently and gather their return values\n",
    "    results = await asyncio.gather(\n",
    "        fetch_data(1, 2),\n",
    "        fetch_data(2, 1),\n",
    "        fetch_data(3, 3)\n",
    "    )\n",
    "\n",
    "    # Process the results\n",
    "    for result in results:\n",
    "        print(f\"Received result: {result}\")\n"
   ]
  },
  {
   "cell_type": "code",
   "execution_count": null,
   "id": "88563bd1",
   "metadata": {},
   "outputs": [
    {
     "name": "stdout",
     "output_type": "stream",
     "text": [
      "Coroutine 1 starting to fetch data.\n",
      "Coroutine 2 starting to fetch data.\n",
      "Coroutine 3 starting to fetch data.\n",
      "Received result: {'id': 1, 'data': 'Sample data from coroutine 1'}\n",
      "Received result: {'id': 2, 'data': 'Sample data from coroutine 2'}\n",
      "Received result: {'id': 3, 'data': 'Sample data from coroutine 3'}\n"
     ]
    }
   ],
   "source": [
    "await main3() # ran in 3 seconds"
   ]
  },
  {
   "cell_type": "markdown",
   "id": "7f3b3d7b",
   "metadata": {},
   "source": [
    "To overcome the above, we use the `.TaskGroup()` method instead. If one task were to fail, it automatically cancels the other tasks too."
   ]
  },
  {
   "cell_type": "code",
   "execution_count": null,
   "id": "08e51973",
   "metadata": {},
   "outputs": [],
   "source": [
    "async def main4():\n",
    "    tasks = []\n",
    "    async with asyncio.TaskGroup() as tg: # context manager\n",
    "        for i, sleep_time in enumerate([2, 1, 3], start=1):\n",
    "            task = tg.create_task(fetch_data(i, sleep_time))\n",
    "            tasks.append(task)\n",
    "\n",
    "    # After the Task Group block (above), all tasks have completed\n",
    "    results = [task.result() for task in tasks]\n",
    "\n",
    "    for result in results:\n",
    "        print(f\"Received result: {result}\")"
   ]
  },
  {
   "cell_type": "code",
   "execution_count": null,
   "id": "715f1caf",
   "metadata": {},
   "outputs": [
    {
     "name": "stdout",
     "output_type": "stream",
     "text": [
      "Coroutine 1 starting to fetch data.\n",
      "Coroutine 2 starting to fetch data.\n",
      "Coroutine 3 starting to fetch data.\n",
      "Received result: {'id': 1, 'data': 'Sample data from coroutine 1'}\n",
      "Received result: {'id': 2, 'data': 'Sample data from coroutine 2'}\n",
      "Received result: {'id': 3, 'data': 'Sample data from coroutine 3'}\n"
     ]
    }
   ],
   "source": [
    "await main4() # ran in 3 seconds"
   ]
  },
  {
   "cell_type": "markdown",
   "id": "fbb0d633",
   "metadata": {},
   "source": [
    "### 4.0 Futures"
   ]
  },
  {
   "cell_type": "markdown",
   "id": "0d9e205b",
   "metadata": {},
   "source": [
    "In comparison to tasks, when we use Futures, we're waiting for some value to be available and we're not waiting for an entire task or an entire coroutine to finish. It's just a promise of an eventual result."
   ]
  },
  {
   "cell_type": "code",
   "execution_count": 12,
   "id": "127fc285",
   "metadata": {},
   "outputs": [],
   "source": [
    "async def set_future_result(future, value):\n",
    "    await asyncio.sleep(2)\n",
    "\n",
    "    # Set the result of the future\n",
    "    future.set_result(value)\n",
    "    print(f\"Set the future's result to: {value}\")"
   ]
  },
  {
   "cell_type": "code",
   "execution_count": 13,
   "id": "adf0a35c",
   "metadata": {},
   "outputs": [],
   "source": [
    "async def main5():\n",
    "    # Create a future object\n",
    "    loop = asyncio.get_running_loop()\n",
    "    future = loop.create_future()\n",
    "\n",
    "    # Schedule setting the future's result\n",
    "    asyncio.create_task(set_future_result(future, \"Future result is ready.\"))\n",
    "\n",
    "    # Wait for the future's result\n",
    "    result = await future\n",
    "    print(f\"Received the future's result: {result}\")"
   ]
  },
  {
   "cell_type": "code",
   "execution_count": 14,
   "id": "7e55097d",
   "metadata": {},
   "outputs": [
    {
     "name": "stdout",
     "output_type": "stream",
     "text": [
      "Set the future's result to: Future result is ready.\n",
      "Received the future's result: Future result is ready.\n"
     ]
    }
   ],
   "source": [
    "await main5()"
   ]
  },
  {
   "cell_type": "markdown",
   "id": "249c892c",
   "metadata": {},
   "source": [
    "### 5.0 Synchronization"
   ]
  },
  {
   "cell_type": "markdown",
   "id": "889a9563",
   "metadata": {},
   "source": [
    "These are tools that allow us to synchronize the execution of various coroutines, especially when we have larger and more complicated programs.\n",
    "\n",
    "Say we have a shared resource e.g., database connections, tables, files, etc. and each operation takes some time to finish executing and **we don't want 2 coroutines to work on the shared resource at the same time.**"
   ]
  },
  {
   "cell_type": "code",
   "execution_count": 24,
   "id": "ff9ab0fc",
   "metadata": {},
   "outputs": [],
   "source": [
    "# A shared resource e.g., database connections, tables, files, etc.\n",
    "shared_resource = 0"
   ]
  },
  {
   "cell_type": "code",
   "execution_count": 26,
   "id": "2a4014ec",
   "metadata": {},
   "outputs": [],
   "source": [
    "# An asyncio Lock\n",
    "lock = asyncio.Lock()"
   ]
  },
  {
   "cell_type": "markdown",
   "id": "73677c97",
   "metadata": {},
   "source": [
    "The `lock` context manager acquires the lock and then checks if any other coroutine is using the lock. If there is, it will wait till the coroutine is finished, and once it has, only then will it go into the specified code chunks e.g., Critial section starts, Critical section ends, and only then will the lock be released."
   ]
  },
  {
   "cell_type": "code",
   "execution_count": 28,
   "id": "7899800d",
   "metadata": {},
   "outputs": [],
   "source": [
    "async def modify_shared_resource():\n",
    "    global shared_resource\n",
    "    async with lock:\n",
    "        # Critical section starts\n",
    "        print(f\"Resouce before modification: {shared_resource}\")\n",
    "        shared_resource += 1 # Modify the shared resource\n",
    "        await asyncio.sleep(1) # Simulate an IO operation\n",
    "        print(f\"Resource after modification: {shared_resource}\")\n",
    "        # Critical section ends"
   ]
  },
  {
   "cell_type": "code",
   "execution_count": 29,
   "id": "69259f88",
   "metadata": {},
   "outputs": [],
   "source": [
    "async def main():\n",
    "    await asyncio.gather(*(modify_shared_resource() for _ in range(5)))"
   ]
  },
  {
   "cell_type": "code",
   "execution_count": 30,
   "id": "5ede838f",
   "metadata": {},
   "outputs": [
    {
     "name": "stdout",
     "output_type": "stream",
     "text": [
      "Resouce before modification: 0\n",
      "Resource after modification: 1\n",
      "Resouce before modification: 1\n",
      "Resource after modification: 2\n",
      "Resouce before modification: 2\n",
      "Resource after modification: 3\n",
      "Resouce before modification: 3\n",
      "Resource after modification: 4\n",
      "Resouce before modification: 4\n",
      "Resource after modification: 5\n"
     ]
    }
   ],
   "source": [
    "await main()"
   ]
  },
  {
   "cell_type": "markdown",
   "id": "29b7c224",
   "metadata": {},
   "source": [
    "In contrast, **semaphores** allow multiple coroutines to have access to the same object at the same time. This lets us throttle our code intentionally to send a maximum of 5 requests at a time, for example."
   ]
  },
  {
   "cell_type": "code",
   "execution_count": 33,
   "id": "5fc5265d",
   "metadata": {},
   "outputs": [],
   "source": [
    "async def access_resource(semaphore, resource_id):\n",
    "    async with semaphore:\n",
    "        # Simulate accessing a limited resource\n",
    "        print(f\"Accessing resource {resource_id}\")\n",
    "        await asyncio.sleep(1) # Simulate work with the resource\n",
    "        print(f\"Releasing resource {resource_id}\")"
   ]
  },
  {
   "cell_type": "code",
   "execution_count": 34,
   "id": "12724a5c",
   "metadata": {},
   "outputs": [],
   "source": [
    "async def main():\n",
    "    semaphore = asyncio.Semaphore(2) # allow 2 concurrent accesses\n",
    "    await asyncio.gather(*(access_resource(semaphore, i) for i in range(5)))"
   ]
  },
  {
   "cell_type": "code",
   "execution_count": 35,
   "id": "0d86a287",
   "metadata": {},
   "outputs": [
    {
     "name": "stdout",
     "output_type": "stream",
     "text": [
      "Accessing resource 0\n",
      "Accessing resource 1\n",
      "Releasing resource 0\n",
      "Releasing resource 1\n",
      "Accessing resource 2\n",
      "Accessing resource 3\n",
      "Releasing resource 2\n",
      "Releasing resource 3\n",
      "Accessing resource 4\n",
      "Releasing resource 4\n"
     ]
    }
   ],
   "source": [
    "await main()"
   ]
  },
  {
   "cell_type": "markdown",
   "id": "dd52015b",
   "metadata": {},
   "source": [
    "We finally go into **Events**."
   ]
  },
  {
   "cell_type": "code",
   "execution_count": 36,
   "id": "df2b1dda",
   "metadata": {},
   "outputs": [],
   "source": [
    "async def waiter(event):\n",
    "    print(\"waiting for the event to be set\")\n",
    "    await event.wait()\n",
    "    print(\"event has been set, continuing execution\")"
   ]
  },
  {
   "cell_type": "code",
   "execution_count": 38,
   "id": "3e822c70",
   "metadata": {},
   "outputs": [],
   "source": [
    "async def setter(event):\n",
    "    await asyncio.sleep(2) # Simulate doing some work\n",
    "    event.set()\n",
    "    print(\"event has been set!\")"
   ]
  },
  {
   "cell_type": "code",
   "execution_count": 39,
   "id": "998cdf62",
   "metadata": {},
   "outputs": [],
   "source": [
    "async def main():\n",
    "    event = asyncio.Event()\n",
    "    await asyncio.gather(waiter(event), setter(event))"
   ]
  },
  {
   "cell_type": "code",
   "execution_count": 40,
   "id": "8969d055",
   "metadata": {},
   "outputs": [
    {
     "name": "stdout",
     "output_type": "stream",
     "text": [
      "waiting for the event to be set\n",
      "event has been set!\n",
      "event has been set, continuing execution\n"
     ]
    }
   ],
   "source": [
    "await main()"
   ]
  }
 ],
 "metadata": {
  "kernelspec": {
   "display_name": "agents",
   "language": "python",
   "name": "python3"
  },
  "language_info": {
   "codemirror_mode": {
    "name": "ipython",
    "version": 3
   },
   "file_extension": ".py",
   "mimetype": "text/x-python",
   "name": "python",
   "nbconvert_exporter": "python",
   "pygments_lexer": "ipython3",
   "version": "3.12.11"
  }
 },
 "nbformat": 4,
 "nbformat_minor": 5
}
